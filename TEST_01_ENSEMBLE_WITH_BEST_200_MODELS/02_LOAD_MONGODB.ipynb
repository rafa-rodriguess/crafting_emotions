{
 "cells": [
  {
   "cell_type": "code",
   "execution_count": 25,
   "id": "0985ee05-42bb-4235-a30a-b0ec3e7e7cbb",
   "metadata": {},
   "outputs": [],
   "source": [
    "import sys\n",
    "sys.path.append(\"/teamspace/studios/this_studio/UTIL\")\n",
    "sys.path.append(\"/teamspace/studios/this_studio/\")\n",
    "from DNNPredict import DNNPredict\n",
    "from CNNPredict import CNNPredict\n",
    "from runEnsembles import run_ensemble\n",
    "import mongo_handler\n",
    "import pandas as pd\n",
    "import os"
   ]
  },
  {
   "cell_type": "code",
   "execution_count": 26,
   "id": "cee4ddb2-3165-4f98-b335-2ef68d88f23d",
   "metadata": {},
   "outputs": [
    {
     "name": "stdout",
     "output_type": "stream",
     "text": [
      "Connected to the database: ENSEMBLE_WITH_BEST_200_MODELS\n"
     ]
    }
   ],
   "source": [
    "ATTEMPT_NAME = \"ENSEMBLE_WITH_BEST_200_MODELS\"\n",
    "WORKSPACE  = \"/teamspace/studios/this_studio/\"\n",
    "\n",
    "uri = \"mongodb://private-server.duckdns.org/:27017\"  \n",
    "db_name = ATTEMPT_NAME\n",
    "\n",
    "# Criar um objeto da classe MongoDBHandler\n",
    "mongo = mongo_handler.MongoDBHandler(uri, db_name)"
   ]
  },
  {
   "cell_type": "code",
   "execution_count": 3,
   "id": "75d441b8-382d-4639-acea-b56b7349d61d",
   "metadata": {},
   "outputs": [
    {
     "name": "stdout",
     "output_type": "stream",
     "text": [
      "Table 'ENSEMBLE_WITH_BEST_200_MODELS' created with 1333300 records.\n"
     ]
    }
   ],
   "source": [
    "#subir arquivo base\n",
    "mongo.create_table_from_csv(os.path.join(WORKSPACE, \"TEST_01_ENSEMBLE_WITH_BEST_200_MODELS\", \"ensemble_candidates.csv\"), ATTEMPT_NAME ,indexes=[\"ensemble_name\"])"
   ]
  },
  {
   "cell_type": "code",
   "execution_count": 21,
   "id": "60b4864b-feda-4c3b-962e-f25e7af1dc67",
   "metadata": {},
   "outputs": [
    {
     "name": "stdout",
     "output_type": "stream",
     "text": [
      "Field 'status' added to 0 documents in 'ENSEMBLE_WITH_BEST_200_MODELS' collection.\n",
      "Index created for field 'status' in collection 'ENSEMBLE_WITH_BEST_200_MODELS'.\n"
     ]
    }
   ],
   "source": [
    "mongo.add_field_to_collection(ATTEMPT_NAME, \"status\", str, \"pending\", True) "
   ]
  },
  {
   "cell_type": "code",
   "execution_count": 27,
   "id": "59d7e240-c4cc-4626-9a5c-64bfe08b87ed",
   "metadata": {},
   "outputs": [
    {
     "name": "stdout",
     "output_type": "stream",
     "text": [
      "Updated 9 records in 'ENSEMBLE_WITH_BEST_200_MODELS' setting 'status' to 'pending'.\n"
     ]
    }
   ],
   "source": [
    "mongo.update_all(ATTEMPT_NAME, \"status\", \"pending\")"
   ]
  },
  {
   "cell_type": "code",
   "execution_count": 28,
   "id": "d9671c08-3252-449f-9e5f-e9bd641a7efa",
   "metadata": {},
   "outputs": [
    {
     "name": "stdout",
     "output_type": "stream",
     "text": [
      "Metadata 'best_accuracy' updated.\n"
     ]
    }
   ],
   "source": [
    "mongo.set_metadata(\"best_accuracy\", 0)"
   ]
  },
  {
   "cell_type": "code",
   "execution_count": 29,
   "id": "4ad13d06-e192-44f7-aebf-dd9558525c8d",
   "metadata": {},
   "outputs": [
    {
     "name": "stdout",
     "output_type": "stream",
     "text": [
      "MongoDB connection closed.\n"
     ]
    }
   ],
   "source": [
    "mongo.close_connection()"
   ]
  },
  {
   "cell_type": "code",
   "execution_count": null,
   "id": "3b1fb1ba-7d6a-495c-ab48-9776a167f47c",
   "metadata": {},
   "outputs": [],
   "source": []
  },
  {
   "cell_type": "code",
   "execution_count": null,
   "id": "2cf35e98-0e5a-45ab-948f-92763140e6f6",
   "metadata": {},
   "outputs": [],
   "source": []
  }
 ],
 "metadata": {
  "kernelspec": {
   "display_name": "Python 3",
   "language": "python",
   "name": "python3"
  },
  "language_info": {
   "codemirror_mode": {
    "name": "ipython",
    "version": 3
   },
   "file_extension": ".py",
   "mimetype": "text/x-python",
   "name": "python",
   "nbconvert_exporter": "python",
   "pygments_lexer": "ipython3",
   "version": "3.10.10"
  }
 },
 "nbformat": 4,
 "nbformat_minor": 5
}
