{
 "cells": [
  {
   "cell_type": "code",
   "execution_count": 10,
   "id": "e64c806d-8810-4d58-b85e-b37422a722d2",
   "metadata": {},
   "outputs": [],
   "source": [
    "import pandas as pd\n",
    "import matplotlib.pyplot as plt\n",
    "import os\n",
    "import itertools\n",
    "import numpy as np\n",
    "from tqdm import tqdm  # Barra de progresso\n",
    "from sklearn.metrics import cohen_kappa_score\n",
    "from scipy.spatial.distance import jaccard\n",
    "import ast\n",
    "import hashlib"
   ]
  },
  {
   "cell_type": "code",
   "execution_count": 11,
   "id": "f99a06d6-5809-400a-bfe0-f0799ab141bf",
   "metadata": {},
   "outputs": [],
   "source": [
    "FILE1 = \"/teamspace/studios/this_studio/CNN_MODEL_TRAINING/CNN_models_combination_metrics.csv\"\n",
    "FILE2 = \"/teamspace/studios/this_studio/DNN_MODEL_TRAINING/DNN_models_combination_metrics.csv\"\n",
    "OUTPUT_FILE = 'ensemble_candidates.csv'\n",
    "ENSEMBLES_LENGTHS = [3,4]"
   ]
  },
  {
   "cell_type": "code",
   "execution_count": 12,
   "id": "b6e4ecfa-8516-47fb-81d9-23710bf2c62e",
   "metadata": {},
   "outputs": [],
   "source": [
    "# Load CSVs into pandas DataFrames\n",
    "df1 = pd.read_csv(FILE1)\n",
    "df2 = pd.read_csv(FILE2)\n"
   ]
  },
  {
   "cell_type": "code",
   "execution_count": 13,
   "id": "27714108-c802-42ef-8885-22b437946c3b",
   "metadata": {},
   "outputs": [],
   "source": [
    "# Filter models with val2_Cohen_Kappa_Score > 0.40\n",
    "df2 = df2[df2[\"val2_Cohen_Kappa_Score\"] > 0.40].reset_index(drop=True)"
   ]
  },
  {
   "cell_type": "code",
   "execution_count": 14,
   "id": "da52e1a0-c967-433c-9b6e-419586182fae",
   "metadata": {},
   "outputs": [],
   "source": [
    "# Concatenate both DataFrames\n",
    "df1 = df1.sort_values(by='val2_accuracy', ascending=False).head(10)\n",
    "df2 = df2.sort_values(by='val2_accuracy', ascending=False).head(10)"
   ]
  },
  {
   "cell_type": "code",
   "execution_count": 15,
   "id": "4c624f6f-b239-4c22-8b51-608fcfb76cf3",
   "metadata": {},
   "outputs": [],
   "source": [
    "df = pd.concat([df1, df2], ignore_index=True)"
   ]
  },
  {
   "cell_type": "code",
   "execution_count": 16,
   "id": "9771168a-8492-4173-a6df-7ab5eff2ca3c",
   "metadata": {},
   "outputs": [],
   "source": [
    "#df = df.drop_duplicates(subset=\"Model\", keep=\"first\")"
   ]
  },
  {
   "cell_type": "code",
   "execution_count": 17,
   "id": "929ab9ee-9d2c-420f-ae06-da06547dc81c",
   "metadata": {},
   "outputs": [],
   "source": [
    "df.to_csv(\"200_best_models.csv\", index=False)"
   ]
  },
  {
   "cell_type": "code",
   "execution_count": 18,
   "id": "48a36092-78b4-44bf-abea-d9dacdeca7c3",
   "metadata": {},
   "outputs": [
    {
     "name": "stdout",
     "output_type": "stream",
     "text": [
      "Total Combinations: 5985\n"
     ]
    }
   ],
   "source": [
    "total_combinations = sum(len(list(itertools.combinations(df.iterrows(), size))) for size in ENSEMBLES_LENGTHS)\n",
    "print(f\"Total Combinations: {total_combinations}\")"
   ]
  },
  {
   "cell_type": "code",
   "execution_count": 19,
   "id": "5e8f9230-b450-4f45-bf90-f2daead0bb90",
   "metadata": {},
   "outputs": [
    {
     "name": "stderr",
     "output_type": "stream",
     "text": [
      "Generating Ensembles: 100%|██████████| 5985/5985 [00:00<00:00, 6173.22combination/s] "
     ]
    },
    {
     "name": "stdout",
     "output_type": "stream",
     "text": [
      "✅ Ensemble candidates saved to ensemble_candidates.csv\n"
     ]
    },
    {
     "name": "stderr",
     "output_type": "stream",
     "text": [
      "\n"
     ]
    }
   ],
   "source": [
    "\n",
    "# Convert string representations of lists to actual lists\n",
    "def safe_eval_list(value):\n",
    "    \"\"\"Safely converts a string representation of a list into a real list.\"\"\"\n",
    "    try:\n",
    "        return ast.literal_eval(value) if isinstance(value, str) else value\n",
    "    except (SyntaxError, ValueError):\n",
    "        return []\n",
    "\n",
    "list_columns = [\n",
    "    \"val2_y_pred\", \"val2_accuracy_vector\", \"val2_y_true\", \"val2_y_proba\",\n",
    "    \"val2_Confusion_Matrix\", \"val2_error_indices\"\n",
    "]\n",
    "\n",
    "for col in list_columns:\n",
    "    df[col] = df[col].apply(safe_eval_list)\n",
    "\n",
    "# Define chunk size for saving intermediate results\n",
    "CHUNK_SIZE = 100000  # Salva a cada 100k combinações para evitar estouro de memória\n",
    "\n",
    "# Calcula o total de combinações\n",
    "total_combinations = sum(len(list(itertools.combinations(df.iterrows(), size))) for size in ENSEMBLES_LENGTHS)\n",
    "\n",
    "def generate_combinations(df):\n",
    "    \"\"\"Generator function to yield model combinations in batches.\"\"\"\n",
    "    count = 0  # Para gerar ID único nos ensembles\n",
    "    for size in ENSEMBLES_LENGTHS:\n",
    "        for combo in itertools.combinations(df.iterrows(), size):\n",
    "            indices, models = zip(*combo)\n",
    "            \n",
    "            # Garante um nome longo para o ensemble\n",
    "            ensemble_name = f\"ensemble_{count:010d}\"\n",
    "\n",
    "            count += 1\n",
    "\n",
    "            # Extract model names and features\n",
    "            models_type = [m[\"Model\"] for m in models]\n",
    "            models_features = [[m[\"Feature Group\"]] for m in models]\n",
    "            models_files = [m[\"val2_model_path\"] for m in models]\n",
    "\n",
    "\n",
    "  \n",
    "            \n",
    "            \n",
    "            # Extract all individual metrics as lists\n",
    "            individual_metrics = {\n",
    "#                \"train_accuracy\": [m[\"train_accuracy\"] for m in models],\n",
    "#                \"val_accuracy\": [m[\"val_accuracy\"] for m in models],\n",
    "                \"val2_accuracy\": [m[\"val2_accuracy\"] for m in models],\n",
    "#                \"gap\": [m[\"gap\"] for m in models],\n",
    "                \"val2_recall\": [m[\"val2_recall\"] for m in models],\n",
    "                \"val2_precision\": [m[\"val2_precision\"] for m in models],\n",
    "                \"val2_f1\": [m[\"val2_f1\"] for m in models],\n",
    "                \"val2_model_path\": [m[\"val2_model_path\"] for m in models],\n",
    "                \"val2_confusion_matrix\": [m[\"val2_Confusion_Matrix\"] for m in models],\n",
    "                \"val2_error_indices\": [m[\"val2_error_indices\"] for m in models]\n",
    "            }\n",
    "\n",
    "            # Extract predictions and accuracy vectors\n",
    "            y_preds = [m[\"val2_y_pred\"] for m in models]\n",
    "            accuracy_vectors = [m[\"val2_accuracy_vector\"] for m in models]\n",
    "\n",
    "            # Compute Cohen's Kappa (agreement between models)\n",
    "#            pairwise_kappas = []\n",
    "#            for i in range(len(y_preds)):\n",
    "#                for j in range(i + 1, len(y_preds)):\n",
    "#                    try:\n",
    "#                        kappa = cohen_kappa_score(y_preds[i], y_preds[j])\n",
    "#                        pairwise_kappas.append(kappa)\n",
    "#                    except ValueError:\n",
    "#                        pairwise_kappas.append(0)  # Default if Cohen's Kappa cannot be computed\n",
    "\n",
    "#            ensemble_kappa = np.mean(pairwise_kappas) if pairwise_kappas else 0\n",
    "\n",
    "            # Compute Jaccard diversity (1 - Jaccard similarity)\n",
    "#            pairwise_jaccards = []\n",
    "#            for i in range(len(accuracy_vectors)):\n",
    "#                for j in range(i + 1, len(accuracy_vectors)):\n",
    "#                    if len(accuracy_vectors[i]) == len(accuracy_vectors[j]):\n",
    "#                        intersection = np.sum(np.logical_and(accuracy_vectors[i], accuracy_vectors[j]))\n",
    "#                        union = np.sum(np.logical_or(accuracy_vectors[i], accuracy_vectors[j]))\n",
    "#                        jaccard_score = 1 - (intersection / union) if union != 0 else 1\n",
    "#                        pairwise_jaccards.append(jaccard_score)\n",
    "\n",
    "#            ensemble_diversity = np.mean(pairwise_jaccards) if pairwise_jaccards else 0\n",
    "\n",
    "            # Assign the ensemble to a quadrant\n",
    "#            if ensemble_diversity >= 0.4 and ensemble_kappa < 0.5:\n",
    "#                quadrant = \"Q1\"\n",
    "#            elif ensemble_diversity >= 0.4 and ensemble_kappa >= 0.5:\n",
    "#                quadrant = \"Q2\"\n",
    "#            elif ensemble_diversity < 0.4 and ensemble_kappa < 0.5:\n",
    "#                quadrant = \"Q3\"\n",
    "#            else:\n",
    "#                quadrant = \"Q4\"\n",
    "\n",
    "            # Store the ensemble data\n",
    "            yield {\n",
    "                \"ensemble_name\": ensemble_name,\n",
    "                \"models_files\":models_files,\n",
    "                \"ensemble_length\": size,\n",
    "                \"models_type\": models_type,\n",
    "                \"models_features\": models_features,\n",
    "#                \"ensemble_agreement_between_models\": ensemble_kappa,\n",
    "#                \"ensemble_diversity_in_correct_prediction\": ensemble_diversity,\n",
    "#                \"quadrant\": quadrant,\n",
    "                **individual_metrics  # Add all individual metrics\n",
    "            }\n",
    "\n",
    "# Process and save in chunks\n",
    "with tqdm(total=total_combinations, desc=\"Generating Ensembles\", unit=\"combination\") as pbar:\n",
    "    chunk = []\n",
    "    for i, ensemble_data in enumerate(generate_combinations(df)):\n",
    "        chunk.append(ensemble_data)\n",
    "\n",
    "        # Save periodically\n",
    "        if len(chunk) >= CHUNK_SIZE:\n",
    "            pd.DataFrame(chunk).to_csv(OUTPUT_FILE, mode='a', header=not os.path.exists(OUTPUT_FILE), index=False)\n",
    "            chunk = []  # Clear memory\n",
    "\n",
    "        pbar.update(1)\n",
    "\n",
    "    # Save remaining data\n",
    "    if chunk:\n",
    "        pd.DataFrame(chunk).to_csv(OUTPUT_FILE, mode='a', header=not os.path.exists(OUTPUT_FILE), index=False)\n",
    "\n",
    "print(f\"✅ Ensemble candidates saved to {OUTPUT_FILE}\")"
   ]
  },
  {
   "cell_type": "code",
   "execution_count": null,
   "id": "37baed45-70de-4618-aba7-f464a8854f1b",
   "metadata": {},
   "outputs": [],
   "source": []
  },
  {
   "cell_type": "code",
   "execution_count": 20,
   "id": "e48e1e22-da95-49ca-af44-d695a11e58ff",
   "metadata": {},
   "outputs": [],
   "source": [
    "import os\n",
    "import pandas as pd\n",
    "\n",
    "def split_csv_by_row(input_csv_path: str, output_dir: str, ensemble_name_col: str):\n",
    "    \"\"\"\n",
    "    Divide um arquivo CSV em múltiplos arquivos, onde cada linha se torna um novo CSV.\n",
    "    \n",
    "    Args:\n",
    "        input_csv_path (str): Caminho do arquivo CSV de entrada.\n",
    "        output_dir (str): Diretório onde os arquivos CSV individuais serão salvos.\n",
    "        ensemble_name_col (str): Nome da coluna a ser usada para nomear os arquivos.\n",
    "    \"\"\"\n",
    "    # Criar diretório de saída se não existir\n",
    "    os.makedirs(output_dir, exist_ok=True)\n",
    "    \n",
    "    # Ler o CSV\n",
    "    df = pd.read_csv(input_csv_path)\n",
    "    \n",
    "    # Iterar sobre as linhas do DataFrame\n",
    "    for _, row in df.iterrows():\n",
    "        # Obter o nome do arquivo a partir da coluna especificada\n",
    "        file_name = f\"{row[ensemble_name_col]}.csv\"\n",
    "        file_path = os.path.join(output_dir, file_name)\n",
    "        \n",
    "        # Salvar a linha como um novo CSV\n",
    "        row.to_frame().T.to_csv(file_path, index=False)\n",
    "\n",
    "    print(f\"Arquivo CSV dividido e salvo em: {output_dir}\")\n"
   ]
  },
  {
   "cell_type": "code",
   "execution_count": null,
   "id": "3fe9bc03-6216-48cf-b6b1-7b6b220b6a72",
   "metadata": {},
   "outputs": [
    {
     "name": "stdout",
     "output_type": "stream",
     "text": [
      "Arquivo CSV dividido e salvo em: individual_ensemble_candidates\n"
     ]
    }
   ],
   "source": [
    "split_csv_by_row(\"ensemble_candidates.csv\", \"individual_ensemble_candidates\", \"ensemble_name\")"
   ]
  },
  {
   "cell_type": "code",
   "execution_count": null,
   "id": "1c24ce29-f7b6-4a09-86b2-60e5efb99319",
   "metadata": {},
   "outputs": [],
   "source": []
  }
 ],
 "metadata": {
  "kernelspec": {
   "display_name": "Python 3",
   "language": "python",
   "name": "python3"
  },
  "language_info": {
   "codemirror_mode": {
    "name": "ipython",
    "version": 3
   },
   "file_extension": ".py",
   "mimetype": "text/x-python",
   "name": "python",
   "nbconvert_exporter": "python",
   "pygments_lexer": "ipython3",
   "version": "3.10.10"
  }
 },
 "nbformat": 4,
 "nbformat_minor": 5
}
